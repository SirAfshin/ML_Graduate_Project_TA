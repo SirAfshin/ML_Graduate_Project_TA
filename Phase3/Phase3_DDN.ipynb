{
  "nbformat": 4,
  "nbformat_minor": 0,
  "metadata": {
    "colab": {
      "provenance": [],
      "gpuType": "T4"
    },
    "kernelspec": {
      "name": "python3",
      "display_name": "Python 3"
    },
    "language_info": {
      "name": "python"
    },
    "accelerator": "GPU"
  },
  "cells": [
    {
      "cell_type": "markdown",
      "source": [
        "# Preprations"
      ],
      "metadata": {
        "id": "TkRv4Zfik-D2"
      }
    },
    {
      "cell_type": "code",
      "source": [
        "from google.colab import drive\n",
        "drive.mount('/content/drive')"
      ],
      "metadata": {
        "colab": {
          "base_uri": "https://localhost:8080/"
        },
        "id": "tSesV7nhjnPB",
        "outputId": "4b43b239-417b-40c0-ae82-025b55b76f18"
      },
      "execution_count": 1,
      "outputs": [
        {
          "output_type": "stream",
          "name": "stdout",
          "text": [
            "Mounted at /content/drive\n"
          ]
        }
      ]
    },
    {
      "cell_type": "code",
      "source": [
        "drive_path = \"/content/drive/MyDrive/ML_VIsion/model_files/\""
      ],
      "metadata": {
        "id": "X5UjA_btjnzm"
      },
      "execution_count": 2,
      "outputs": []
    },
    {
      "cell_type": "code",
      "source": [
        "!git clone https://github.com/SirAfshin/ML_Graduate_Project_TA.git"
      ],
      "metadata": {
        "colab": {
          "base_uri": "https://localhost:8080/"
        },
        "id": "CuUDQyyZTbfs",
        "outputId": "b68fe383-2739-4b3d-cfe8-cbc09600caf6"
      },
      "execution_count": 3,
      "outputs": [
        {
          "output_type": "stream",
          "name": "stdout",
          "text": [
            "Cloning into 'ML_Graduate_Project_TA'...\n",
            "remote: Enumerating objects: 42, done.\u001b[K\n",
            "remote: Counting objects: 100% (42/42), done.\u001b[K\n",
            "remote: Compressing objects: 100% (32/32), done.\u001b[K\n",
            "remote: Total 42 (delta 12), reused 25 (delta 8), pack-reused 0\u001b[K\n",
            "Unpacking objects: 100% (42/42), 11.84 KiB | 1.32 MiB/s, done.\n"
          ]
        }
      ]
    },
    {
      "cell_type": "code",
      "execution_count": 4,
      "metadata": {
        "colab": {
          "base_uri": "https://localhost:8080/"
        },
        "id": "v2qr19xuIrLS",
        "outputId": "311f6c7c-86a9-403c-f76f-f07925caea6c"
      },
      "outputs": [
        {
          "output_type": "stream",
          "name": "stdout",
          "text": [
            "  Preparing metadata (setup.py) ... \u001b[?25l\u001b[?25hdone\n",
            "  Preparing metadata (setup.py) ... \u001b[?25l\u001b[?25hdone\n",
            "\u001b[2K     \u001b[90m━━━━━━━━━━━━━━━━━━━━━━━━━━━━━━━━━━━━━━━━\u001b[0m \u001b[32m54.8/54.8 kB\u001b[0m \u001b[31m6.5 MB/s\u001b[0m eta \u001b[36m0:00:00\u001b[0m\n",
            "\u001b[2K     \u001b[90m━━━━━━━━━━━━━━━━━━━━━━━━━━━━━━━━━━━━━━━━\u001b[0m \u001b[32m61.2/61.2 kB\u001b[0m \u001b[31m7.2 MB/s\u001b[0m eta \u001b[36m0:00:00\u001b[0m\n",
            "\u001b[2K     \u001b[90m━━━━━━━━━━━━━━━━━━━━━━━━━━━━━━━━━━━━━━━\u001b[0m \u001b[32m11.5/11.5 MB\u001b[0m \u001b[31m103.7 MB/s\u001b[0m eta \u001b[36m0:00:00\u001b[0m\n",
            "\u001b[2K     \u001b[90m━━━━━━━━━━━━━━━━━━━━━━━━━━━━━━━━━━━━━━\u001b[0m \u001b[32m549.1/549.1 kB\u001b[0m \u001b[31m46.4 MB/s\u001b[0m eta \u001b[36m0:00:00\u001b[0m\n",
            "\u001b[2K     \u001b[90m━━━━━━━━━━━━━━━━━━━━━━━━━━━━━━━━━━━━━━━━\u001b[0m \u001b[32m58.8/58.8 kB\u001b[0m \u001b[31m7.5 MB/s\u001b[0m eta \u001b[36m0:00:00\u001b[0m\n",
            "\u001b[2K     \u001b[90m━━━━━━━━━━━━━━━━━━━━━━━━━━━━━━━━━━━━━━\u001b[0m \u001b[32m268.8/268.8 kB\u001b[0m \u001b[31m31.5 MB/s\u001b[0m eta \u001b[36m0:00:00\u001b[0m\n",
            "\u001b[?25h  Building wheel for robustbench (setup.py) ... \u001b[?25l\u001b[?25hdone\n",
            "  Building wheel for autoattack (setup.py) ... \u001b[?25l\u001b[?25hdone\n",
            "\u001b[31mERROR: pip's dependency resolver does not currently take into account all the packages that are installed. This behaviour is the source of the following dependency conflicts.\n",
            "google-colab 1.0.0 requires pandas==1.5.3, but you have pandas 1.3.5 which is incompatible.\n",
            "google-colab 1.0.0 requires requests==2.27.1, but you have requests 2.25.1 which is incompatible.\n",
            "tweepy 4.13.0 requires requests<3,>=2.27.0, but you have requests 2.25.1 which is incompatible.\n",
            "yfinance 0.2.22 requires requests>=2.26, but you have requests 2.25.1 which is incompatible.\u001b[0m\u001b[31m\n",
            "\u001b[0m"
          ]
        }
      ],
      "source": [
        "# run this cell twice for it to work !!!!!!!!!!!!\n",
        "import warnings\n",
        "warnings.filterwarnings('ignore')\n",
        "!pip install -q git+https://github.com/RobustBench/robustbench.git@2d630bc9e8d1cf50d46a4dda65fd36850e3ef769"
      ]
    },
    {
      "cell_type": "code",
      "source": [
        "# because twice -> used 2 identical cells\n",
        "# run this cell twice for it to work !!!!!!!!!!!!\n",
        "import warnings\n",
        "warnings.filterwarnings('ignore')\n",
        "!pip install -q git+https://github.com/RobustBench/robustbench.git@2d630bc9e8d1cf50d46a4dda65fd36850e3ef769"
      ],
      "metadata": {
        "id": "0wXxclRJp58a",
        "colab": {
          "base_uri": "https://localhost:8080/"
        },
        "outputId": "d36ddcae-4d16-4ae1-cb03-056c684f4086"
      },
      "execution_count": 5,
      "outputs": [
        {
          "output_type": "stream",
          "name": "stdout",
          "text": [
            "  Preparing metadata (setup.py) ... \u001b[?25l\u001b[?25hdone\n"
          ]
        }
      ]
    },
    {
      "cell_type": "code",
      "source": [
        "!cp /content/ML_Graduate_Project_TA/Phase_1/utils.py /content/"
      ],
      "metadata": {
        "id": "4IN0z35Q_2z7"
      },
      "execution_count": 6,
      "outputs": []
    },
    {
      "cell_type": "code",
      "source": [
        "!mkdir /content/models"
      ],
      "metadata": {
        "id": "4YhP1JLjkQLk"
      },
      "execution_count": 7,
      "outputs": []
    },
    {
      "cell_type": "code",
      "source": [
        "model_path = drive_path+\"*\"\n",
        "!cp {model_path} /content/models"
      ],
      "metadata": {
        "id": "OiXDk02Wkda2"
      },
      "execution_count": 8,
      "outputs": []
    },
    {
      "cell_type": "code",
      "source": [
        "!pip install git+https://github.com/jeromerony/fast_adversarial"
      ],
      "metadata": {
        "colab": {
          "base_uri": "https://localhost:8080/"
        },
        "id": "r_kvve9-kIoR",
        "outputId": "05805c20-da3d-4601-b369-2fdee2a18e1f"
      },
      "execution_count": 9,
      "outputs": [
        {
          "output_type": "stream",
          "name": "stdout",
          "text": [
            "Collecting git+https://github.com/jeromerony/fast_adversarial\n",
            "  Cloning https://github.com/jeromerony/fast_adversarial to /tmp/pip-req-build-rv_nr2dj\n",
            "  Running command git clone --filter=blob:none --quiet https://github.com/jeromerony/fast_adversarial /tmp/pip-req-build-rv_nr2dj\n",
            "  Resolved https://github.com/jeromerony/fast_adversarial to commit 45210b7c79e2deaeac9845d6c901dc2580d6e316\n",
            "  Preparing metadata (setup.py) ... \u001b[?25l\u001b[?25hdone\n",
            "Requirement already satisfied: torch>=0.4.1 in /usr/local/lib/python3.10/dist-packages (from fast-adversarial==0.1) (2.0.1+cu118)\n",
            "Requirement already satisfied: torchvision>=0.2.1 in /usr/local/lib/python3.10/dist-packages (from fast-adversarial==0.1) (0.15.2+cu118)\n",
            "Requirement already satisfied: tqdm>=4.23.4 in /usr/local/lib/python3.10/dist-packages (from fast-adversarial==0.1) (4.65.0)\n",
            "Collecting visdom>=0.1.8 (from fast-adversarial==0.1)\n",
            "  Downloading visdom-0.2.4.tar.gz (1.4 MB)\n",
            "\u001b[2K     \u001b[90m━━━━━━━━━━━━━━━━━━━━━━━━━━━━━━━━━━━━━━━━\u001b[0m \u001b[32m1.4/1.4 MB\u001b[0m \u001b[31m25.8 MB/s\u001b[0m eta \u001b[36m0:00:00\u001b[0m\n",
            "\u001b[?25h  Preparing metadata (setup.py) ... \u001b[?25l\u001b[?25hdone\n",
            "Collecting foolbox>=1.7.0 (from fast-adversarial==0.1)\n",
            "  Downloading foolbox-3.3.3-py3-none-any.whl (1.7 MB)\n",
            "\u001b[2K     \u001b[90m━━━━━━━━━━━━━━━━━━━━━━━━━━━━━━━━━━━━━━━━\u001b[0m \u001b[32m1.7/1.7 MB\u001b[0m \u001b[31m62.6 MB/s\u001b[0m eta \u001b[36m0:00:00\u001b[0m\n",
            "\u001b[?25hRequirement already satisfied: numpy in /usr/local/lib/python3.10/dist-packages (from foolbox>=1.7.0->fast-adversarial==0.1) (1.22.4)\n",
            "Requirement already satisfied: scipy in /usr/local/lib/python3.10/dist-packages (from foolbox>=1.7.0->fast-adversarial==0.1) (1.10.1)\n",
            "Requirement already satisfied: setuptools in /usr/local/lib/python3.10/dist-packages (from foolbox>=1.7.0->fast-adversarial==0.1) (67.7.2)\n",
            "Collecting eagerpy>=0.30.0 (from foolbox>=1.7.0->fast-adversarial==0.1)\n",
            "  Downloading eagerpy-0.30.0-py3-none-any.whl (31 kB)\n",
            "Collecting GitPython>=3.0.7 (from foolbox>=1.7.0->fast-adversarial==0.1)\n",
            "  Downloading GitPython-3.1.32-py3-none-any.whl (188 kB)\n",
            "\u001b[2K     \u001b[90m━━━━━━━━━━━━━━━━━━━━━━━━━━━━━━━━━━━━━━\u001b[0m \u001b[32m188.5/188.5 kB\u001b[0m \u001b[31m20.1 MB/s\u001b[0m eta \u001b[36m0:00:00\u001b[0m\n",
            "\u001b[?25hRequirement already satisfied: typing-extensions>=3.7.4.1 in /usr/local/lib/python3.10/dist-packages (from foolbox>=1.7.0->fast-adversarial==0.1) (4.7.1)\n",
            "Requirement already satisfied: requests>=2.24.0 in /usr/local/lib/python3.10/dist-packages (from foolbox>=1.7.0->fast-adversarial==0.1) (2.25.1)\n",
            "Requirement already satisfied: filelock in /usr/local/lib/python3.10/dist-packages (from torch>=0.4.1->fast-adversarial==0.1) (3.12.2)\n",
            "Requirement already satisfied: sympy in /usr/local/lib/python3.10/dist-packages (from torch>=0.4.1->fast-adversarial==0.1) (1.11.1)\n",
            "Requirement already satisfied: networkx in /usr/local/lib/python3.10/dist-packages (from torch>=0.4.1->fast-adversarial==0.1) (3.1)\n",
            "Requirement already satisfied: jinja2 in /usr/local/lib/python3.10/dist-packages (from torch>=0.4.1->fast-adversarial==0.1) (3.1.2)\n",
            "Requirement already satisfied: triton==2.0.0 in /usr/local/lib/python3.10/dist-packages (from torch>=0.4.1->fast-adversarial==0.1) (2.0.0)\n",
            "Requirement already satisfied: cmake in /usr/local/lib/python3.10/dist-packages (from triton==2.0.0->torch>=0.4.1->fast-adversarial==0.1) (3.25.2)\n",
            "Requirement already satisfied: lit in /usr/local/lib/python3.10/dist-packages (from triton==2.0.0->torch>=0.4.1->fast-adversarial==0.1) (16.0.6)\n",
            "Requirement already satisfied: pillow!=8.3.*,>=5.3.0 in /usr/local/lib/python3.10/dist-packages (from torchvision>=0.2.1->fast-adversarial==0.1) (8.4.0)\n",
            "Requirement already satisfied: tornado in /usr/local/lib/python3.10/dist-packages (from visdom>=0.1.8->fast-adversarial==0.1) (6.3.1)\n",
            "Requirement already satisfied: six in /usr/local/lib/python3.10/dist-packages (from visdom>=0.1.8->fast-adversarial==0.1) (1.16.0)\n",
            "Collecting jsonpatch (from visdom>=0.1.8->fast-adversarial==0.1)\n",
            "  Downloading jsonpatch-1.33-py2.py3-none-any.whl (12 kB)\n",
            "Requirement already satisfied: websocket-client in /usr/local/lib/python3.10/dist-packages (from visdom>=0.1.8->fast-adversarial==0.1) (1.6.1)\n",
            "Collecting gitdb<5,>=4.0.1 (from GitPython>=3.0.7->foolbox>=1.7.0->fast-adversarial==0.1)\n",
            "  Downloading gitdb-4.0.10-py3-none-any.whl (62 kB)\n",
            "\u001b[2K     \u001b[90m━━━━━━━━━━━━━━━━━━━━━━━━━━━━━━━━━━━━━━━━\u001b[0m \u001b[32m62.7/62.7 kB\u001b[0m \u001b[31m7.8 MB/s\u001b[0m eta \u001b[36m0:00:00\u001b[0m\n",
            "\u001b[?25hRequirement already satisfied: chardet<5,>=3.0.2 in /usr/local/lib/python3.10/dist-packages (from requests>=2.24.0->foolbox>=1.7.0->fast-adversarial==0.1) (4.0.0)\n",
            "Requirement already satisfied: idna<3,>=2.5 in /usr/local/lib/python3.10/dist-packages (from requests>=2.24.0->foolbox>=1.7.0->fast-adversarial==0.1) (2.10)\n",
            "Requirement already satisfied: urllib3<1.27,>=1.21.1 in /usr/local/lib/python3.10/dist-packages (from requests>=2.24.0->foolbox>=1.7.0->fast-adversarial==0.1) (1.26.16)\n",
            "Requirement already satisfied: certifi>=2017.4.17 in /usr/local/lib/python3.10/dist-packages (from requests>=2.24.0->foolbox>=1.7.0->fast-adversarial==0.1) (2023.5.7)\n",
            "Requirement already satisfied: MarkupSafe>=2.0 in /usr/local/lib/python3.10/dist-packages (from jinja2->torch>=0.4.1->fast-adversarial==0.1) (2.1.3)\n",
            "Collecting jsonpointer>=1.9 (from jsonpatch->visdom>=0.1.8->fast-adversarial==0.1)\n",
            "  Downloading jsonpointer-2.4-py2.py3-none-any.whl (7.8 kB)\n",
            "Requirement already satisfied: mpmath>=0.19 in /usr/local/lib/python3.10/dist-packages (from sympy->torch>=0.4.1->fast-adversarial==0.1) (1.3.0)\n",
            "Collecting smmap<6,>=3.0.1 (from gitdb<5,>=4.0.1->GitPython>=3.0.7->foolbox>=1.7.0->fast-adversarial==0.1)\n",
            "  Downloading smmap-5.0.0-py3-none-any.whl (24 kB)\n",
            "Building wheels for collected packages: fast-adversarial, visdom\n",
            "  Building wheel for fast-adversarial (setup.py) ... \u001b[?25l\u001b[?25hdone\n",
            "  Created wheel for fast-adversarial: filename=fast_adversarial-0.1-py3-none-any.whl size=29326 sha256=d85b87d8d8c23ade11016e7bebddac51537c11fb04d1480a3699fd893b51cf63\n",
            "  Stored in directory: /tmp/pip-ephem-wheel-cache-d2o3g0jx/wheels/d6/68/b8/b4ae3dd5ec7d260836ef6dbd5402878190b738ff67774cf276\n",
            "  Building wheel for visdom (setup.py) ... \u001b[?25l\u001b[?25hdone\n",
            "  Created wheel for visdom: filename=visdom-0.2.4-py3-none-any.whl size=1408196 sha256=d2385701772c46b606f05e653ca4117be62dd3fd30bfe27e861354f20a05866c\n",
            "  Stored in directory: /root/.cache/pip/wheels/42/29/49/5bed207bac4578e4d2c0c5fc0226bfd33a7e2953ea56356855\n",
            "Successfully built fast-adversarial visdom\n",
            "Installing collected packages: smmap, jsonpointer, eagerpy, jsonpatch, gitdb, visdom, GitPython, foolbox, fast-adversarial\n",
            "Successfully installed GitPython-3.1.32 eagerpy-0.30.0 fast-adversarial-0.1 foolbox-3.3.3 gitdb-4.0.10 jsonpatch-1.33 jsonpointer-2.4 smmap-5.0.0 visdom-0.2.4\n"
          ]
        }
      ]
    },
    {
      "cell_type": "markdown",
      "source": [
        "# Phase3 - DDN"
      ],
      "metadata": {
        "id": "iJMY-s-JO9vG"
      }
    },
    {
      "cell_type": "code",
      "source": [
        "import argparse\n",
        "import torch\n",
        "import time\n",
        "from torch.utils import data\n",
        "from torchvision import datasets, transforms\n",
        "from torchvision.utils import save_image, make_grid\n",
        "\n",
        "from fast_adv.models.mnist import SmallCNN\n",
        "from fast_adv.attacks import DDN, CarliniWagnerL2\n",
        "from fast_adv.utils import requires_grad_, l2_norm\n",
        "import matplotlib.pyplot as plt\n",
        "import os\n",
        "%matplotlib inline\n",
        "\n",
        "# import architecture of models\n",
        "from models.resnet_addpool import ResNet50 as AddPool50\n",
        "from models.resnet_nobatch import ResNet50 as NoBatch5\n",
        "from models.resnet_nopool import ResNet50 as NoPool50\n",
        "from models.resnet_standard import ResNet50 as STD50\n",
        "\n",
        "\n",
        "from robustbench import load_cifar10, load_model\n",
        "import torch.nn as nn\n",
        "from utils import *\n"
      ],
      "metadata": {
        "id": "By5svMhAVeIs"
      },
      "execution_count": 10,
      "outputs": []
    },
    {
      "cell_type": "code",
      "source": [
        "# set random seed\n",
        "torch.manual_seed(67) #42\n",
        "device = torch.device('cuda:0' if torch.cuda.is_available() else 'cpu')\n",
        "\n",
        "# path of all model saved files\n",
        "model_paths = {'std': '/content/models/resnet_standard.pth',\\\n",
        "               'nopool': '/content/models/resnet_nopool.pth',\\\n",
        "               'addpool': '/content/models/resnet_addpool.pth',\\\n",
        "               'nobatch': '/content/models/resnet_nobatch.pth'}"
      ],
      "metadata": {
        "id": "ZJi52KhznFHf"
      },
      "execution_count": 11,
      "outputs": []
    },
    {
      "cell_type": "code",
      "source": [
        "# # Loading the data\n",
        "# dataset = datasets.CIFAR10('/content/CIFAR10/',train=False,transform=transforms.ToTensor(),download=True)\n",
        "# loader = data.DataLoader(dataset, shuffle=False, batch_size=100)\n",
        "\n",
        "# x, y = next(iter(loader))\n",
        "# x = x.to(device)\n",
        "# y = y.to(device)\n",
        "\n",
        "# plt.imshow(make_grid(x.to('cpu'), nrow=16).permute(1,2,0))\n",
        "# plt.axis('off');"
      ],
      "metadata": {
        "id": "IJ4my52ckEfx"
      },
      "execution_count": 12,
      "outputs": []
    },
    {
      "cell_type": "code",
      "source": [
        "# loading dataset --> CIFAR10\n",
        "\n",
        "batch_size = 200\n",
        "print('Loading data')\n",
        "dataset_test = datasets.CIFAR10('/content/CIFAR10', train=False,transform=transforms.ToTensor(),download=True)\n",
        "loader_test = data.DataLoader(dataset_test, shuffle=False, batch_size= batch_size)\n",
        "\n",
        "x, y = next(iter(loader_test))\n",
        "x = x.to(device)\n",
        "y = y.to(device)\n",
        "\n",
        "# Inverse normalization\n",
        "mean = torch.tensor([0.4914, 0.4822, 0.4465]).view(1, 3, 1, 1)\n",
        "std = torch.tensor([0.2023, 0.1994, 0.2010]).view(1, 3, 1, 1)\n",
        "\n",
        "# Move std and mean tensors to the same device as x\n",
        "std = std.to(x.device)\n",
        "mean = mean.to(x.device)"
      ],
      "metadata": {
        "colab": {
          "base_uri": "https://localhost:8080/"
        },
        "id": "U1eJyJHS_bQ9",
        "outputId": "017724e3-5d45-4f91-f3a8-20c4814dec2b"
      },
      "execution_count": 13,
      "outputs": [
        {
          "output_type": "stream",
          "name": "stdout",
          "text": [
            "Loading data\n",
            "Downloading https://www.cs.toronto.edu/~kriz/cifar-10-python.tar.gz to /content/CIFAR10/cifar-10-python.tar.gz\n"
          ]
        },
        {
          "output_type": "stream",
          "name": "stderr",
          "text": [
            "100%|██████████| 170498071/170498071 [00:01<00:00, 99249239.13it/s] \n"
          ]
        },
        {
          "output_type": "stream",
          "name": "stdout",
          "text": [
            "Extracting /content/CIFAR10/cifar-10-python.tar.gz to /content/CIFAR10\n"
          ]
        }
      ]
    },
    {
      "cell_type": "code",
      "source": [
        "from logging import raiseExceptions\n",
        "print('Check models availability:')\n",
        "\n",
        "if not os.path.exists(model_paths['std']):\n",
        "  raise Exception(\"Sorry, no model std available\")\n",
        "\n",
        "if not os.path.exists(model_paths['nopool']):\n",
        "  raise Exception(\"Sorry, no model std available\")\n",
        "\n",
        "if not os.path.exists(model_paths['addpool']):\n",
        "  raise Exception(\"Sorry, no model std available\")\n",
        "\n",
        "if not os.path.exists(model_paths['nobatch']):\n",
        "  raise Exception(\"Sorry, no model std available\")\n",
        "\n",
        "print('... All models are available')"
      ],
      "metadata": {
        "colab": {
          "base_uri": "https://localhost:8080/"
        },
        "id": "Qxnp9U1UocFz",
        "outputId": "74e62b72-51ce-4dc1-9bc5-6a1e47e47be5"
      },
      "execution_count": 14,
      "outputs": [
        {
          "output_type": "stream",
          "name": "stdout",
          "text": [
            "Check models availability:\n",
            "... All models are available\n"
          ]
        }
      ]
    },
    {
      "cell_type": "code",
      "source": [
        "# load model\n",
        "def load_resnet50(model_class,model_path,mean,std):\n",
        "  print('Loading model')\n",
        "  model = model_class()\n",
        "  model = nn.DataParallel(model)\n",
        "  checkpoint = torch.load(model_path)\n",
        "  model.load_state_dict(checkpoint['net'])\n",
        "  model = NormalizedModel(model, mean =  mean , std = std)\n",
        "  model.eval().to(device)\n",
        "  requires_grad_(model, False)\n",
        "  return model"
      ],
      "metadata": {
        "id": "I8tL0CbF-AvQ"
      },
      "execution_count": 15,
      "outputs": []
    },
    {
      "cell_type": "code",
      "source": [
        "def run_ddn(model,x,y):\n",
        "  print('Running DDN attack')\n",
        "  attacker = DDN(steps=1000, device=device)\n",
        "  start = time.time()\n",
        "  ddn_atk = attacker.attack(model, x, labels=y, targeted=False)\n",
        "  ddn_time = time.time() - start\n",
        "\n",
        "  # Save images\n",
        "  all_imgs = torch.cat((x, ddn_atk))\n",
        "  save_image(all_imgs, 'images_and_attacks.png', nrow=16, pad_value=0)\n",
        "\n",
        "  pred_ddn = model(ddn_atk).argmax(dim=1).cpu()\n",
        "  print(5*\"*\"+\"DDN-1000\"+5*\"*\")\n",
        "  print(\"Duration {:.1f}s \\nSuccess: {:.2f}% \\nMean L2: {:.4f} \\nMedian L2: {:.4f}\".format(\\\n",
        "      ddn_time,(pred_ddn != y.cpu()).float().mean().item() * 100,l2_norm(ddn_atk - x).mean().item(),l2_norm(ddn_atk - x).median().item()))\n"
      ],
      "metadata": {
        "id": "C7r3A90gpPNS"
      },
      "execution_count": 16,
      "outputs": []
    },
    {
      "cell_type": "code",
      "source": [
        "def eval_ddn(model_class,model_path,x,y,mean,std):\n",
        "  # Empty cuda cache\n",
        "  torch.cuda.empty_cache()\n",
        "  # load model\n",
        "  model = load_resnet50(model_class,model_path,mean,std)\n",
        "  run_ddn(model,x,y)\n"
      ],
      "metadata": {
        "id": "_P5bPIYQOuFA"
      },
      "execution_count": 17,
      "outputs": []
    },
    {
      "cell_type": "code",
      "source": [
        "print(\"Standard Resnet50\")\n",
        "eval_ddn(STD50, model_paths['std'],x,y,mean,std)"
      ],
      "metadata": {
        "colab": {
          "base_uri": "https://localhost:8080/"
        },
        "id": "u5nWfyfuSCT0",
        "outputId": "6a8ac8d3-25e5-4240-a2ed-ff0fce70b593"
      },
      "execution_count": 18,
      "outputs": [
        {
          "output_type": "stream",
          "name": "stdout",
          "text": [
            "Standard Resnet50\n",
            "Loading model\n",
            "Running DDN attack\n",
            "*****DDN-1000*****\n",
            "Duration 424.1s \n",
            "Success: 100.00% \n",
            "Mean L2: 0.0984 \n",
            "Median L2: 0.0935\n"
          ]
        }
      ]
    },
    {
      "cell_type": "code",
      "source": [
        "print(\"No Pool Resnet50\")\n",
        "eval_ddn(NoPool50, model_paths['nopool'],x,y,mean,std)"
      ],
      "metadata": {
        "colab": {
          "base_uri": "https://localhost:8080/"
        },
        "id": "l9soRioSS_jZ",
        "outputId": "e1c6d283-dc94-4417-f1ab-d2662fa72ab2"
      },
      "execution_count": 19,
      "outputs": [
        {
          "output_type": "stream",
          "name": "stdout",
          "text": [
            "No Pool Resnet50\n",
            "Loading model\n",
            "Running DDN attack\n",
            "*****DDN-1000*****\n",
            "Duration 417.8s \n",
            "Success: 100.00% \n",
            "Mean L2: 0.1049 \n",
            "Median L2: 0.1017\n"
          ]
        }
      ]
    },
    {
      "cell_type": "code",
      "source": [
        "print(\"Add Pool Resnet50\")\n",
        "eval_ddn(AddPool50, model_paths['addpool'],x,y,mean,std)"
      ],
      "metadata": {
        "colab": {
          "base_uri": "https://localhost:8080/"
        },
        "id": "mkmKUszKS_mo",
        "outputId": "b4275aa9-ba1d-4b7e-da4a-71d6acf9b7c7"
      },
      "execution_count": 20,
      "outputs": [
        {
          "output_type": "stream",
          "name": "stdout",
          "text": [
            "Add Pool Resnet50\n",
            "Loading model\n",
            "Running DDN attack\n",
            "*****DDN-1000*****\n",
            "Duration 137.9s \n",
            "Success: 100.00% \n",
            "Mean L2: 0.1452 \n",
            "Median L2: 0.1147\n"
          ]
        }
      ]
    },
    {
      "cell_type": "code",
      "source": [
        "print(\"No Batch Resnet50\")\n",
        "eval_ddn(NoBatch5, model_paths['nobatch'],x,y,mean,std)"
      ],
      "metadata": {
        "colab": {
          "base_uri": "https://localhost:8080/"
        },
        "id": "m5jTf2asS_xs",
        "outputId": "dd90b357-5afb-4c82-b83f-2870d678c3b2"
      },
      "execution_count": 21,
      "outputs": [
        {
          "output_type": "stream",
          "name": "stdout",
          "text": [
            "No Batch Resnet50\n",
            "Loading model\n",
            "Running DDN attack\n",
            "*****DDN-1000*****\n",
            "Duration 384.4s \n",
            "Success: 100.00% \n",
            "Mean L2: 0.0942 \n",
            "Median L2: 0.0893\n"
          ]
        }
      ]
    }
  ]
}