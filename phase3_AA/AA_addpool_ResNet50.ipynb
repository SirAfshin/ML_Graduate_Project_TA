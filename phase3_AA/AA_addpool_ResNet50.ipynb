{
  "nbformat": 4,
  "nbformat_minor": 0,
  "metadata": {
    "colab": {
      "provenance": [],
      "gpuType": "T4"
    },
    "kernelspec": {
      "name": "python3",
      "display_name": "Python 3"
    },
    "language_info": {
      "name": "python"
    },
    "accelerator": "GPU"
  },
  "cells": [
    {
      "cell_type": "code",
      "source": [
        "from google.colab import drive\n",
        "drive.mount('/content/gdrive')"
      ],
      "metadata": {
        "colab": {
          "base_uri": "https://localhost:8080/"
        },
        "id": "mD1KaZKW9SmW",
        "outputId": "9c3c54a5-2447-409f-8c00-51b701f95a5e"
      },
      "execution_count": 1,
      "outputs": [
        {
          "output_type": "stream",
          "name": "stdout",
          "text": [
            "Mounted at /content/gdrive\n"
          ]
        }
      ]
    },
    {
      "cell_type": "code",
      "execution_count": 2,
      "metadata": {
        "id": "KSAW4Eg2vsJ7"
      },
      "outputs": [],
      "source": [
        "from IPython.display import clear_output"
      ]
    },
    {
      "cell_type": "code",
      "source": [
        "!pip install git+https://github.com/fra31/auto-attack"
      ],
      "metadata": {
        "colab": {
          "base_uri": "https://localhost:8080/"
        },
        "id": "uUa3h_oG21ih",
        "outputId": "edb3f40e-4610-4eac-9fde-1f6d798c731d"
      },
      "execution_count": 3,
      "outputs": [
        {
          "output_type": "stream",
          "name": "stdout",
          "text": [
            "Collecting git+https://github.com/fra31/auto-attack\n",
            "  Cloning https://github.com/fra31/auto-attack to /tmp/pip-req-build-fdr9mf39\n",
            "  Running command git clone --filter=blob:none --quiet https://github.com/fra31/auto-attack /tmp/pip-req-build-fdr9mf39\n",
            "  Resolved https://github.com/fra31/auto-attack to commit a39220048b3c9f2cca9a4d3a54604793c68eca7e\n",
            "  Preparing metadata (setup.py) ... \u001b[?25l\u001b[?25hdone\n",
            "Building wheels for collected packages: autoattack\n",
            "  Building wheel for autoattack (setup.py) ... \u001b[?25l\u001b[?25hdone\n",
            "  Created wheel for autoattack: filename=autoattack-0.1-py3-none-any.whl size=36229 sha256=cf121b73dcc54d9cacb6348386a8c1db69be207a55df59c39a8e8ea16fcfaf2b\n",
            "  Stored in directory: /tmp/pip-ephem-wheel-cache-zkb2uopk/wheels/b7/17/95/4b16fafe1b84fdabd247eb5f01b41165bd98d4c82d64ab93d2\n",
            "Successfully built autoattack\n",
            "Installing collected packages: autoattack\n",
            "Successfully installed autoattack-0.1\n"
          ]
        }
      ]
    },
    {
      "cell_type": "code",
      "source": [
        "! git clone https://github.com/fra31/auto-attack.git"
      ],
      "metadata": {
        "colab": {
          "base_uri": "https://localhost:8080/"
        },
        "id": "CzgFQRV726Vh",
        "outputId": "d206114d-9678-470a-920d-665902ae7d83"
      },
      "execution_count": 4,
      "outputs": [
        {
          "output_type": "stream",
          "name": "stdout",
          "text": [
            "Cloning into 'auto-attack'...\n",
            "remote: Enumerating objects: 672, done.\u001b[K\n",
            "remote: Counting objects: 100% (209/209), done.\u001b[K\n",
            "remote: Compressing objects: 100% (68/68), done.\u001b[K\n",
            "remote: Total 672 (delta 162), reused 159 (delta 141), pack-reused 463\u001b[K\n",
            "Receiving objects: 100% (672/672), 40.63 MiB | 23.87 MiB/s, done.\n",
            "Resolving deltas: 100% (413/413), done.\n"
          ]
        }
      ]
    },
    {
      "cell_type": "code",
      "source": [
        "! git clone https://github.com/hojat-ardi/image-project.git"
      ],
      "metadata": {
        "colab": {
          "base_uri": "https://localhost:8080/"
        },
        "id": "32ZiOt_L-iTF",
        "outputId": "52872b7b-ba88-4b7c-f3e5-edc4bba42102"
      },
      "execution_count": 5,
      "outputs": [
        {
          "output_type": "stream",
          "name": "stdout",
          "text": [
            "Cloning into 'image-project'...\n",
            "remote: Enumerating objects: 296, done.\u001b[K\n",
            "remote: Counting objects: 100% (185/185), done.\u001b[K\n",
            "remote: Compressing objects: 100% (105/105), done.\u001b[K\n",
            "remote: Total 296 (delta 60), reused 135 (delta 40), pack-reused 111\u001b[K\n",
            "Receiving objects: 100% (296/296), 39.81 MiB | 22.07 MiB/s, done.\n",
            "Resolving deltas: 100% (90/90), done.\n"
          ]
        }
      ]
    },
    {
      "cell_type": "code",
      "source": [
        "!cp //content/gdrive/MyDrive/resnet_addpool.py  /content/gdrive/MyDrive/auto-attack/autoattack/examples"
      ],
      "metadata": {
        "id": "eLhGg4rG9-Y0"
      },
      "execution_count": 6,
      "outputs": []
    },
    {
      "cell_type": "markdown",
      "source": [
        "#AA-L2"
      ],
      "metadata": {
        "id": "uacaJxYIHrqU"
      }
    },
    {
      "cell_type": "markdown",
      "source": [
        "## Epsilon = 0.3"
      ],
      "metadata": {
        "id": "E-w_BuvXCl5V"
      }
    },
    {
      "cell_type": "code",
      "source": [
        "epsilon = 0.3\n",
        "! python /content/gdrive/MyDrive/auto-attack/autoattack/examples/eval.py --epsilon $epsilon"
      ],
      "metadata": {
        "colab": {
          "base_uri": "https://localhost:8080/"
        },
        "id": "2v4_N0Dkxpga",
        "outputId": "95a8c0d2-ce90-48c9-b129-70ab8e1b7480"
      },
      "execution_count": 7,
      "outputs": [
        {
          "output_type": "stream",
          "name": "stdout",
          "text": [
            "Downloading https://www.cs.toronto.edu/~kriz/cifar-10-python.tar.gz to ./data/cifar-10-python.tar.gz\n",
            "100% 170498071/170498071 [00:06<00:00, 27824451.72it/s]\n",
            "Extracting ./data/cifar-10-python.tar.gz to ./data\n",
            "setting parameters for standard version\n",
            "using standard version including apgd-ce, apgd-t, fab-t, square.\n",
            "initial accuracy: 77.00%\n",
            "apgd-ce - 1/1 - 37 out of 77 successfully perturbed\n",
            "robust accuracy after APGD-CE: 40.00% (total time 5.3 s)\n",
            "apgd-t - 1/1 - 0 out of 40 successfully perturbed\n",
            "robust accuracy after APGD-T: 40.00% (total time 34.1 s)\n",
            "fab-t - 1/1 - 0 out of 40 successfully perturbed\n",
            "robust accuracy after FAB-T: 40.00% (total time 93.9 s)\n",
            "square - 1/1 - 0 out of 40 successfully perturbed\n",
            "robust accuracy after SQUARE: 40.00% (total time 177.2 s)\n",
            "max L2 perturbation: 95.46526, nan in tensor: 0, max: 2.75373, min: -2.42907\n",
            "robust accuracy: 40.00%\n"
          ]
        }
      ]
    },
    {
      "cell_type": "markdown",
      "source": [
        "## Epsilon = 0.4"
      ],
      "metadata": {
        "id": "awKVYO6qCAOO"
      }
    },
    {
      "cell_type": "code",
      "source": [
        "epsilon = 0.4\n",
        "! python /content/gdrive/MyDrive/auto-attack/autoattack/examples/eval.py --epsilon $epsilon"
      ],
      "metadata": {
        "colab": {
          "base_uri": "https://localhost:8080/"
        },
        "id": "lc5mAcn30TpD",
        "outputId": "06f1a104-7967-4415-db6c-945c3c77f820"
      },
      "execution_count": 8,
      "outputs": [
        {
          "output_type": "stream",
          "name": "stdout",
          "text": [
            "Files already downloaded and verified\n",
            "setting parameters for standard version\n",
            "using standard version including apgd-ce, apgd-t, fab-t, square.\n",
            "initial accuracy: 77.00%\n",
            "apgd-ce - 1/1 - 37 out of 77 successfully perturbed\n",
            "robust accuracy after APGD-CE: 40.00% (total time 5.8 s)\n",
            "apgd-t - 1/1 - 0 out of 40 successfully perturbed\n",
            "robust accuracy after APGD-T: 40.00% (total time 36.9 s)\n",
            "fab-t - 1/1 - 0 out of 40 successfully perturbed\n",
            "robust accuracy after FAB-T: 40.00% (total time 97.6 s)\n",
            "square - 1/1 - 0 out of 40 successfully perturbed\n",
            "robust accuracy after SQUARE: 40.00% (total time 180.5 s)\n",
            "max L2 perturbation: 95.46526, nan in tensor: 0, max: 2.75373, min: -2.42907\n",
            "robust accuracy: 40.00%\n"
          ]
        }
      ]
    },
    {
      "cell_type": "markdown",
      "source": [
        "## Epsilon = 0.5"
      ],
      "metadata": {
        "id": "Op1MfiwSCIit"
      }
    },
    {
      "cell_type": "code",
      "source": [
        "epsilon = 0.5\n",
        "! python /content/gdrive/MyDrive/auto-attack/autoattack/examples/eval.py --epsilon $epsilon"
      ],
      "metadata": {
        "colab": {
          "base_uri": "https://localhost:8080/"
        },
        "id": "1XkFpe5ABxnf",
        "outputId": "df979c82-4e28-4250-9f95-0554ab80f36b"
      },
      "execution_count": 9,
      "outputs": [
        {
          "output_type": "stream",
          "name": "stdout",
          "text": [
            "Files already downloaded and verified\n",
            "setting parameters for standard version\n",
            "using standard version including apgd-ce, apgd-t, fab-t, square.\n",
            "initial accuracy: 77.00%\n",
            "apgd-ce - 1/1 - 37 out of 77 successfully perturbed\n",
            "robust accuracy after APGD-CE: 40.00% (total time 5.8 s)\n",
            "apgd-t - 1/1 - 0 out of 40 successfully perturbed\n",
            "robust accuracy after APGD-T: 40.00% (total time 36.9 s)\n",
            "fab-t - 1/1 - 0 out of 40 successfully perturbed\n",
            "robust accuracy after FAB-T: 40.00% (total time 97.7 s)\n",
            "square - 1/1 - 0 out of 40 successfully perturbed\n",
            "robust accuracy after SQUARE: 40.00% (total time 181.1 s)\n",
            "max L2 perturbation: 95.46526, nan in tensor: 0, max: 2.75373, min: -2.42907\n",
            "robust accuracy: 40.00%\n"
          ]
        }
      ]
    },
    {
      "cell_type": "markdown",
      "source": [
        "#AA-Linf"
      ],
      "metadata": {
        "id": "28wOBTZ5C5TN"
      }
    },
    {
      "cell_type": "markdown",
      "source": [
        "##Epsilon = 4/255"
      ],
      "metadata": {
        "id": "iQVo3nXqC86l"
      }
    },
    {
      "cell_type": "code",
      "source": [
        "norm = \"Linf\"\n",
        "epsilon = 4/255\n",
        "! python /content/gdrive/MyDrive/auto-attack/autoattack/examples/eval.py --epsilon $epsilon --norm $norm"
      ],
      "metadata": {
        "colab": {
          "base_uri": "https://localhost:8080/"
        },
        "id": "ucRp2TUsDJN3",
        "outputId": "72446739-30f5-408d-8f2d-e43eba3c948d"
      },
      "execution_count": 10,
      "outputs": [
        {
          "output_type": "stream",
          "name": "stdout",
          "text": [
            "Files already downloaded and verified\n",
            "setting parameters for standard version\n",
            "using standard version including apgd-ce, apgd-t, fab-t, square.\n",
            "initial accuracy: 77.00%\n",
            "apgd-ce - 1/1 - 46 out of 77 successfully perturbed\n",
            "robust accuracy after APGD-CE: 31.00% (total time 5.7 s)\n",
            "apgd-t - 1/1 - 1 out of 31 successfully perturbed\n",
            "robust accuracy after APGD-T: 30.00% (total time 31.5 s)\n",
            "fab-t - 1/1 - 0 out of 30 successfully perturbed\n",
            "robust accuracy after FAB-T: 30.00% (total time 83.6 s)\n",
            "square - 1/1 - 0 out of 30 successfully perturbed\n",
            "robust accuracy after SQUARE: 30.00% (total time 147.5 s)\n",
            "max Linf perturbation: 2.42907, nan in tensor: 0, max: 2.75373, min: -2.42907\n",
            "robust accuracy: 30.00%\n"
          ]
        }
      ]
    },
    {
      "cell_type": "markdown",
      "source": [
        "##Epsilon = 6/255"
      ],
      "metadata": {
        "id": "r_zZEAEKDWYl"
      }
    },
    {
      "cell_type": "code",
      "source": [
        "epsilon = 6/255\n",
        "norm = \"Linf\"\n",
        "! python /content/gdrive/MyDrive/auto-attack/autoattack/examples/eval.py --epsilon $epsilon --norm $norm"
      ],
      "metadata": {
        "colab": {
          "base_uri": "https://localhost:8080/"
        },
        "id": "dOrdmehRDcTV",
        "outputId": "acac1701-4ecf-44fa-f3b4-154551285f78"
      },
      "execution_count": 11,
      "outputs": [
        {
          "output_type": "stream",
          "name": "stdout",
          "text": [
            "Files already downloaded and verified\n",
            "setting parameters for standard version\n",
            "using standard version including apgd-ce, apgd-t, fab-t, square.\n",
            "initial accuracy: 77.00%\n",
            "apgd-ce - 1/1 - 53 out of 77 successfully perturbed\n",
            "robust accuracy after APGD-CE: 24.00% (total time 5.7 s)\n",
            "apgd-t - 1/1 - 0 out of 24 successfully perturbed\n",
            "robust accuracy after APGD-T: 24.00% (total time 28.4 s)\n",
            "fab-t - 1/1 - 0 out of 24 successfully perturbed\n",
            "robust accuracy after FAB-T: 24.00% (total time 74.2 s)\n",
            "square - 1/1 - 0 out of 24 successfully perturbed\n",
            "robust accuracy after SQUARE: 24.00% (total time 130.1 s)\n",
            "max Linf perturbation: 2.42907, nan in tensor: 0, max: 2.75373, min: -2.42907\n",
            "robust accuracy: 24.00%\n"
          ]
        }
      ]
    },
    {
      "cell_type": "markdown",
      "source": [
        "##Epsilon = 8/255"
      ],
      "metadata": {
        "id": "Pu9rv73ZDZzd"
      }
    },
    {
      "cell_type": "code",
      "source": [
        "norm = \"Linf\"\n",
        "epsilon = 8/255\n",
        "! python /content/gdrive/MyDrive/auto-attack/autoattack/examples/eval.py --epsilon $epsilon --norm $norm"
      ],
      "metadata": {
        "colab": {
          "base_uri": "https://localhost:8080/"
        },
        "id": "hRQIK4KuDeI2",
        "outputId": "39ab123f-cfd7-4b4b-a63d-b44e4ebb5ad5"
      },
      "execution_count": 12,
      "outputs": [
        {
          "output_type": "stream",
          "name": "stdout",
          "text": [
            "Files already downloaded and verified\n",
            "setting parameters for standard version\n",
            "using standard version including apgd-ce, apgd-t, fab-t, square.\n",
            "initial accuracy: 77.00%\n",
            "apgd-ce - 1/1 - 57 out of 77 successfully perturbed\n",
            "robust accuracy after APGD-CE: 20.00% (total time 5.7 s)\n",
            "apgd-t - 1/1 - 1 out of 20 successfully perturbed\n",
            "robust accuracy after APGD-T: 19.00% (total time 26.1 s)\n",
            "fab-t - 1/1 - 0 out of 19 successfully perturbed\n",
            "robust accuracy after FAB-T: 19.00% (total time 68.2 s)\n",
            "square - 1/1 - 0 out of 19 successfully perturbed\n",
            "robust accuracy after SQUARE: 19.00% (total time 119.7 s)\n",
            "max Linf perturbation: 2.42907, nan in tensor: 0, max: 2.75373, min: -2.42907\n",
            "robust accuracy: 19.00%\n"
          ]
        }
      ]
    }
  ]
}