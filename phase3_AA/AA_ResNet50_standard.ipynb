{
  "nbformat": 4,
  "nbformat_minor": 0,
  "metadata": {
    "colab": {
      "provenance": [],
      "gpuType": "T4"
    },
    "kernelspec": {
      "name": "python3",
      "display_name": "Python 3"
    },
    "language_info": {
      "name": "python"
    },
    "accelerator": "GPU"
  },
  "cells": [
    {
      "cell_type": "code",
      "source": [
        "from google.colab import drive\n",
        "drive.mount('/content/drive')"
      ],
      "metadata": {
        "colab": {
          "base_uri": "https://localhost:8080/"
        },
        "id": "mD1KaZKW9SmW",
        "outputId": "192b2788-c876-421f-e3d7-71555e498fa1"
      },
      "execution_count": 1,
      "outputs": [
        {
          "output_type": "stream",
          "name": "stdout",
          "text": [
            "Mounted at /content/drive\n"
          ]
        }
      ]
    },
    {
      "cell_type": "code",
      "source": [
        "from IPython.display import clear_output"
      ],
      "metadata": {
        "id": "u2RUQu4CHoEg"
      },
      "execution_count": 2,
      "outputs": []
    },
    {
      "cell_type": "code",
      "source": [
        "!pip install git+https://github.com/fra31/auto-attack"
      ],
      "metadata": {
        "colab": {
          "base_uri": "https://localhost:8080/"
        },
        "id": "uUa3h_oG21ih",
        "outputId": "239b5ddc-25c0-4e62-8867-16d36d61b52a"
      },
      "execution_count": 3,
      "outputs": [
        {
          "output_type": "stream",
          "name": "stdout",
          "text": [
            "Collecting git+https://github.com/fra31/auto-attack\n",
            "  Cloning https://github.com/fra31/auto-attack to /tmp/pip-req-build-0u5eiwkn\n",
            "  Running command git clone --filter=blob:none --quiet https://github.com/fra31/auto-attack /tmp/pip-req-build-0u5eiwkn\n",
            "  Resolved https://github.com/fra31/auto-attack to commit a39220048b3c9f2cca9a4d3a54604793c68eca7e\n",
            "  Preparing metadata (setup.py) ... \u001b[?25l\u001b[?25hdone\n",
            "Building wheels for collected packages: autoattack\n",
            "  Building wheel for autoattack (setup.py) ... \u001b[?25l\u001b[?25hdone\n",
            "  Created wheel for autoattack: filename=autoattack-0.1-py3-none-any.whl size=36229 sha256=ee346c3a28e14631a7caa40e9c9e3c530b9635cba6d99cb60b73d1f60bf9b110\n",
            "  Stored in directory: /tmp/pip-ephem-wheel-cache-vacft6ox/wheels/b7/17/95/4b16fafe1b84fdabd247eb5f01b41165bd98d4c82d64ab93d2\n",
            "Successfully built autoattack\n",
            "Installing collected packages: autoattack\n",
            "Successfully installed autoattack-0.1\n"
          ]
        }
      ]
    },
    {
      "cell_type": "code",
      "source": [
        "! git clone https://github.com/fra31/auto-attack.git"
      ],
      "metadata": {
        "colab": {
          "base_uri": "https://localhost:8080/"
        },
        "id": "CzgFQRV726Vh",
        "outputId": "bfed6f88-c8e2-41c7-ef8e-ce52266d3a0c"
      },
      "execution_count": 4,
      "outputs": [
        {
          "output_type": "stream",
          "name": "stdout",
          "text": [
            "Cloning into 'auto-attack'...\n",
            "remote: Enumerating objects: 672, done.\u001b[K\n",
            "remote: Counting objects: 100% (209/209), done.\u001b[K\n",
            "remote: Compressing objects: 100% (68/68), done.\u001b[K\n",
            "remote: Total 672 (delta 162), reused 159 (delta 141), pack-reused 463\u001b[K\n",
            "Receiving objects: 100% (672/672), 40.63 MiB | 16.52 MiB/s, done.\n",
            "Resolving deltas: 100% (413/413), done.\n"
          ]
        }
      ]
    },
    {
      "cell_type": "code",
      "source": [
        "!cp /content/drive/MyDrive/resnet_standard.py  /content/auto-attack/autoattack/examples"
      ],
      "metadata": {
        "id": "eLhGg4rG9-Y0"
      },
      "execution_count": 5,
      "outputs": []
    },
    {
      "cell_type": "markdown",
      "source": [
        "#AA-L2"
      ],
      "metadata": {
        "id": "uacaJxYIHrqU"
      }
    },
    {
      "cell_type": "markdown",
      "source": [
        "## Epsilon = 0.3"
      ],
      "metadata": {
        "id": "E-w_BuvXCl5V"
      }
    },
    {
      "cell_type": "code",
      "source": [
        "epsilon = 0.3\n",
        "! python /content/auto-attack/autoattack/examples/eval.py --epsilon $epsilon"
      ],
      "metadata": {
        "colab": {
          "base_uri": "https://localhost:8080/"
        },
        "id": "2v4_N0Dkxpga",
        "outputId": "51db0aab-9742-4f3b-cfa8-28ee26d1ac77"
      },
      "execution_count": 13,
      "outputs": [
        {
          "output_type": "stream",
          "name": "stdout",
          "text": [
            "Downloading https://www.cs.toronto.edu/~kriz/cifar-10-python.tar.gz to ./data/cifar-10-python.tar.gz\n",
            "100% 170498071/170498071 [00:03<00:00, 46891579.80it/s]\n",
            "Extracting ./data/cifar-10-python.tar.gz to ./data\n",
            "setting parameters for standard version\n",
            "using standard version including apgd-ce, apgd-t, fab-t, square.\n",
            "initial accuracy: 83.70%\n",
            "apgd-ce - 1/2 - 270 out of 500 successfully perturbed\n",
            "apgd-ce - 2/2 - 166 out of 337 successfully perturbed\n",
            "robust accuracy after APGD-CE: 40.10% (total time 161.3 s)\n",
            "apgd-t - 1/1 - 5 out of 401 successfully perturbed\n",
            "robust accuracy after APGD-T: 39.60% (total time 890.4 s)\n",
            "fab-t - 1/1 - 0 out of 396 successfully perturbed\n",
            "robust accuracy after FAB-T: 39.60% (total time 2297.5 s)\n",
            "square - 1/1 - 2 out of 396 successfully perturbed\n",
            "robust accuracy after SQUARE: 39.40% (total time 4069.7 s)\n",
            "max L2 perturbation: 110.26619, nan in tensor: 0, max: 2.75373, min: -2.42907\n",
            "robust accuracy: 39.40%\n"
          ]
        }
      ]
    },
    {
      "cell_type": "markdown",
      "source": [
        "## Epsilon = 0.4"
      ],
      "metadata": {
        "id": "awKVYO6qCAOO"
      }
    },
    {
      "cell_type": "code",
      "source": [
        "epsilon = 0.4\n",
        "! python /content/auto-attack/autoattack/examples/eval.py --epsilon $epsilon"
      ],
      "metadata": {
        "colab": {
          "base_uri": "https://localhost:8080/"
        },
        "id": "lc5mAcn30TpD",
        "outputId": "8eca7e65-c890-421b-9241-21982a627f3c"
      },
      "execution_count": 14,
      "outputs": [
        {
          "output_type": "stream",
          "name": "stdout",
          "text": [
            "Files already downloaded and verified\n",
            "setting parameters for standard version\n",
            "using standard version including apgd-ce, apgd-t, fab-t, square.\n",
            "initial accuracy: 83.70%\n",
            "apgd-ce - 1/2 - 267 out of 500 successfully perturbed\n",
            "apgd-ce - 2/2 - 166 out of 337 successfully perturbed\n",
            "robust accuracy after APGD-CE: 40.40% (total time 170.9 s)\n",
            "apgd-t - 1/1 - 7 out of 404 successfully perturbed\n",
            "robust accuracy after APGD-T: 39.70% (total time 903.1 s)\n",
            "fab-t - 1/1 - 0 out of 397 successfully perturbed\n",
            "robust accuracy after FAB-T: 39.70% (total time 2314.6 s)\n",
            "square - 1/1 - 6 out of 397 successfully perturbed\n",
            "robust accuracy after SQUARE: 39.10% (total time 4075.8 s)\n",
            "Warning: Square Attack has decreased the robust accuracy of 0.60%. This might indicate that the robustness evaluation using AutoAttack is unreliable. Consider running Square Attack with more iterations and restarts or an adaptive attack. See flags_doc.md for details.\n",
            "max L2 perturbation: 110.26619, nan in tensor: 0, max: 2.75373, min: -2.42907\n",
            "robust accuracy: 39.10%\n"
          ]
        }
      ]
    },
    {
      "cell_type": "markdown",
      "source": [
        "## Epsilon = 0.5"
      ],
      "metadata": {
        "id": "Op1MfiwSCIit"
      }
    },
    {
      "cell_type": "code",
      "source": [
        "epsilon = 0.5\n",
        "! python /content/auto-attack/autoattack/examples/eval.py --epsilon $epsilon"
      ],
      "metadata": {
        "colab": {
          "base_uri": "https://localhost:8080/"
        },
        "id": "1XkFpe5ABxnf",
        "outputId": "159f1782-4b9b-4d03-8318-b37752f9e4f8"
      },
      "execution_count": 6,
      "outputs": [
        {
          "output_type": "stream",
          "name": "stdout",
          "text": [
            "Downloading https://www.cs.toronto.edu/~kriz/cifar-10-python.tar.gz to ./data/cifar-10-python.tar.gz\n",
            "100% 170498071/170498071 [00:12<00:00, 13167963.68it/s]\n",
            "Extracting ./data/cifar-10-python.tar.gz to ./data\n",
            "setting parameters for standard version\n",
            "using standard version including apgd-ce, apgd-t, fab-t, square.\n",
            "initial accuracy: 84.00%\n",
            "apgd-ce - 1/1 - 38 out of 84 successfully perturbed\n",
            "robust accuracy after APGD-CE: 46.00% (total time 16.2 s)\n",
            "apgd-t - 1/1 - 1 out of 46 successfully perturbed\n",
            "robust accuracy after APGD-T: 45.00% (total time 109.2 s)\n",
            "fab-t - 1/1 - 0 out of 45 successfully perturbed\n",
            "robust accuracy after FAB-T: 45.00% (total time 291.2 s)\n",
            "square - 1/1 - 0 out of 45 successfully perturbed\n",
            "robust accuracy after SQUARE: 45.00% (total time 545.2 s)\n",
            "max L2 perturbation: 95.46526, nan in tensor: 0, max: 2.75373, min: -2.42907\n",
            "robust accuracy: 45.00%\n"
          ]
        }
      ]
    },
    {
      "cell_type": "markdown",
      "source": [
        "#AA-Linf"
      ],
      "metadata": {
        "id": "28wOBTZ5C5TN"
      }
    },
    {
      "cell_type": "markdown",
      "source": [
        "##Epsilon = 4/255"
      ],
      "metadata": {
        "id": "iQVo3nXqC86l"
      }
    },
    {
      "cell_type": "code",
      "source": [
        "norm = \"Linf\"\n",
        "epsilon = 4/255\n",
        "! python /content/auto-attack/autoattack/examples/eval.py --epsilon $epsilon --norm $norm"
      ],
      "metadata": {
        "colab": {
          "base_uri": "https://localhost:8080/"
        },
        "id": "ucRp2TUsDJN3",
        "outputId": "869f2408-00ca-478d-b639-c79af25a84ea"
      },
      "execution_count": 15,
      "outputs": [
        {
          "output_type": "stream",
          "name": "stdout",
          "text": [
            "Files already downloaded and verified\n",
            "setting parameters for standard version\n",
            "using standard version including apgd-ce, apgd-t, fab-t, square.\n",
            "initial accuracy: 83.70%\n",
            "apgd-ce - 1/2 - 385 out of 500 successfully perturbed\n",
            "apgd-ce - 2/2 - 240 out of 337 successfully perturbed\n",
            "robust accuracy after APGD-CE: 21.20% (total time 171.9 s)\n",
            "apgd-t - 1/1 - 3 out of 212 successfully perturbed\n",
            "robust accuracy after APGD-T: 20.90% (total time 542.2 s)\n",
            "fab-t - 1/1 - 0 out of 209 successfully perturbed\n",
            "robust accuracy after FAB-T: 20.90% (total time 1286.3 s)\n",
            "square - 1/1 - 0 out of 209 successfully perturbed\n",
            "robust accuracy after SQUARE: 20.90% (total time 2213.0 s)\n",
            "max Linf perturbation: 2.42907, nan in tensor: 0, max: 2.75373, min: -2.42907\n",
            "robust accuracy: 20.90%\n"
          ]
        }
      ]
    },
    {
      "cell_type": "markdown",
      "source": [
        "##Epsilon = 6/255"
      ],
      "metadata": {
        "id": "r_zZEAEKDWYl"
      }
    },
    {
      "cell_type": "code",
      "source": [
        "epsilon = 6/255\n",
        "norm = \"Linf\"\n",
        "! python /content/auto-attack/autoattack/examples/eval.py --epsilon $epsilon --norm $norm"
      ],
      "metadata": {
        "colab": {
          "base_uri": "https://localhost:8080/"
        },
        "id": "dOrdmehRDcTV",
        "outputId": "670551b2-9dae-4274-ed0b-7641a922bf12"
      },
      "execution_count": 7,
      "outputs": [
        {
          "output_type": "stream",
          "name": "stdout",
          "text": [
            "Files already downloaded and verified\n",
            "setting parameters for standard version\n",
            "using standard version including apgd-ce, apgd-t, fab-t, square.\n",
            "initial accuracy: 84.00%\n",
            "apgd-ce - 1/1 - 71 out of 84 successfully perturbed\n",
            "robust accuracy after APGD-CE: 13.00% (total time 16.9 s)\n",
            "apgd-t - 1/1 - 0 out of 13 successfully perturbed\n",
            "robust accuracy after APGD-T: 13.00% (total time 51.3 s)\n",
            "fab-t - 1/1 - 0 out of 13 successfully perturbed\n",
            "robust accuracy after FAB-T: 13.00% (total time 120.9 s)\n",
            "square - 1/1 - 0 out of 13 successfully perturbed\n",
            "robust accuracy after SQUARE: 13.00% (total time 222.0 s)\n",
            "max Linf perturbation: 2.42907, nan in tensor: 0, max: 2.75373, min: -2.42907\n",
            "robust accuracy: 13.00%\n"
          ]
        }
      ]
    },
    {
      "cell_type": "markdown",
      "source": [
        "##Epsilon = 8/255"
      ],
      "metadata": {
        "id": "Pu9rv73ZDZzd"
      }
    },
    {
      "cell_type": "code",
      "source": [
        "norm = \"Linf\"\n",
        "epsilon = 8/255\n",
        "! python /content/auto-attack/autoattack/examples/eval.py --epsilon $epsilon --norm $norm"
      ],
      "metadata": {
        "colab": {
          "base_uri": "https://localhost:8080/"
        },
        "id": "hRQIK4KuDeI2",
        "outputId": "2096a0c8-f416-4d80-d414-fa321538cf83"
      },
      "execution_count": 8,
      "outputs": [
        {
          "output_type": "stream",
          "name": "stdout",
          "text": [
            "Files already downloaded and verified\n",
            "setting parameters for standard version\n",
            "using standard version including apgd-ce, apgd-t, fab-t, square.\n",
            "initial accuracy: 84.00%\n",
            "apgd-ce - 1/1 - 74 out of 84 successfully perturbed\n",
            "robust accuracy after APGD-CE: 10.00% (total time 17.1 s)\n",
            "apgd-t - 1/1 - 1 out of 10 successfully perturbed\n",
            "robust accuracy after APGD-T: 9.00% (total time 44.1 s)\n",
            "fab-t - 1/1 - 0 out of 9 successfully perturbed\n",
            "robust accuracy after FAB-T: 9.00% (total time 99.8 s)\n",
            "square - 1/1 - 0 out of 9 successfully perturbed\n",
            "robust accuracy after SQUARE: 9.00% (total time 181.4 s)\n",
            "max Linf perturbation: 2.42907, nan in tensor: 0, max: 2.75373, min: -2.42907\n",
            "robust accuracy: 9.00%\n"
          ]
        }
      ]
    }
  ]
}