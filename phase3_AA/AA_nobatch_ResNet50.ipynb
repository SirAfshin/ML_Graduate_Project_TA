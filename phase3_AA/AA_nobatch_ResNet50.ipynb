{
  "nbformat": 4,
  "nbformat_minor": 0,
  "metadata": {
    "colab": {
      "provenance": [],
      "gpuType": "T4"
    },
    "kernelspec": {
      "name": "python3",
      "display_name": "Python 3"
    },
    "language_info": {
      "name": "python"
    },
    "accelerator": "GPU"
  },
  "cells": [
    {
      "cell_type": "code",
      "source": [
        "from google.colab import drive\n",
        "drive.mount('/content/drive')"
      ],
      "metadata": {
        "colab": {
          "base_uri": "https://localhost:8080/"
        },
        "id": "mD1KaZKW9SmW",
        "outputId": "f97ca9a2-29c1-4d20-b572-44ff3ea6390e"
      },
      "execution_count": 1,
      "outputs": [
        {
          "output_type": "stream",
          "name": "stdout",
          "text": [
            "Mounted at /content/drive\n"
          ]
        }
      ]
    },
    {
      "cell_type": "code",
      "execution_count": 2,
      "metadata": {
        "id": "KSAW4Eg2vsJ7"
      },
      "outputs": [],
      "source": [
        "from IPython.display import clear_output"
      ]
    },
    {
      "cell_type": "code",
      "source": [
        "!pip install git+https://github.com/fra31/auto-attack"
      ],
      "metadata": {
        "colab": {
          "base_uri": "https://localhost:8080/"
        },
        "id": "uUa3h_oG21ih",
        "outputId": "c9d7830d-82e4-425e-c85d-7a6486920bbf"
      },
      "execution_count": 3,
      "outputs": [
        {
          "output_type": "stream",
          "name": "stdout",
          "text": [
            "Collecting git+https://github.com/fra31/auto-attack\n",
            "  Cloning https://github.com/fra31/auto-attack to /tmp/pip-req-build-in5tdlwt\n",
            "  Running command git clone --filter=blob:none --quiet https://github.com/fra31/auto-attack /tmp/pip-req-build-in5tdlwt\n",
            "  Resolved https://github.com/fra31/auto-attack to commit a39220048b3c9f2cca9a4d3a54604793c68eca7e\n",
            "  Preparing metadata (setup.py) ... \u001b[?25l\u001b[?25hdone\n",
            "Building wheels for collected packages: autoattack\n",
            "  Building wheel for autoattack (setup.py) ... \u001b[?25l\u001b[?25hdone\n",
            "  Created wheel for autoattack: filename=autoattack-0.1-py3-none-any.whl size=36229 sha256=05d45bf09da8a90926a054b4c9e59810112a4f123dcb0d41855ccbfa6e3b287f\n",
            "  Stored in directory: /tmp/pip-ephem-wheel-cache-lb7s1bfy/wheels/b7/17/95/4b16fafe1b84fdabd247eb5f01b41165bd98d4c82d64ab93d2\n",
            "Successfully built autoattack\n",
            "Installing collected packages: autoattack\n",
            "Successfully installed autoattack-0.1\n"
          ]
        }
      ]
    },
    {
      "cell_type": "code",
      "source": [
        "! git clone https://github.com/fra31/auto-attack.git"
      ],
      "metadata": {
        "colab": {
          "base_uri": "https://localhost:8080/"
        },
        "id": "CzgFQRV726Vh",
        "outputId": "e8452208-a4c3-4014-94fe-ef42f4d74b75"
      },
      "execution_count": 4,
      "outputs": [
        {
          "output_type": "stream",
          "name": "stdout",
          "text": [
            "Cloning into 'auto-attack'...\n",
            "remote: Enumerating objects: 672, done.\u001b[K\n",
            "remote: Counting objects:   0% (1/209)\u001b[K\rremote: Counting objects:   1% (3/209)\u001b[K\rremote: Counting objects:   2% (5/209)\u001b[K\rremote: Counting objects:   3% (7/209)\u001b[K\rremote: Counting objects:   4% (9/209)\u001b[K\rremote: Counting objects:   5% (11/209)\u001b[K\rremote: Counting objects:   6% (13/209)\u001b[K\rremote: Counting objects:   7% (15/209)\u001b[K\rremote: Counting objects:   8% (17/209)\u001b[K\rremote: Counting objects:   9% (19/209)\u001b[K\rremote: Counting objects:  10% (21/209)\u001b[K\rremote: Counting objects:  11% (23/209)\u001b[K\rremote: Counting objects:  12% (26/209)\u001b[K\rremote: Counting objects:  13% (28/209)\u001b[K\rremote: Counting objects:  14% (30/209)\u001b[K\rremote: Counting objects:  15% (32/209)\u001b[K\rremote: Counting objects:  16% (34/209)\u001b[K\rremote: Counting objects:  17% (36/209)\u001b[K\rremote: Counting objects:  18% (38/209)\u001b[K\rremote: Counting objects:  19% (40/209)\u001b[K\rremote: Counting objects:  20% (42/209)\u001b[K\rremote: Counting objects:  21% (44/209)\u001b[K\rremote: Counting objects:  22% (46/209)\u001b[K\rremote: Counting objects:  23% (49/209)\u001b[K\rremote: Counting objects:  24% (51/209)\u001b[K\rremote: Counting objects:  25% (53/209)\u001b[K\rremote: Counting objects:  26% (55/209)\u001b[K\rremote: Counting objects:  27% (57/209)\u001b[K\rremote: Counting objects:  28% (59/209)\u001b[K\rremote: Counting objects:  29% (61/209)\u001b[K\rremote: Counting objects:  30% (63/209)\u001b[K\rremote: Counting objects:  31% (65/209)\u001b[K\rremote: Counting objects:  32% (67/209)\u001b[K\rremote: Counting objects:  33% (69/209)\u001b[K\rremote: Counting objects:  34% (72/209)\u001b[K\rremote: Counting objects:  35% (74/209)\u001b[K\rremote: Counting objects:  36% (76/209)\u001b[K\rremote: Counting objects:  37% (78/209)\u001b[K\rremote: Counting objects:  38% (80/209)\u001b[K\rremote: Counting objects:  39% (82/209)\u001b[K\rremote: Counting objects:  40% (84/209)\u001b[K\rremote: Counting objects:  41% (86/209)\u001b[K\rremote: Counting objects:  42% (88/209)\u001b[K\rremote: Counting objects:  43% (90/209)\u001b[K\rremote: Counting objects:  44% (92/209)\u001b[K\rremote: Counting objects:  45% (95/209)\u001b[K\rremote: Counting objects:  46% (97/209)\u001b[K\rremote: Counting objects:  47% (99/209)\u001b[K\rremote: Counting objects:  48% (101/209)\u001b[K\rremote: Counting objects:  49% (103/209)\u001b[K\rremote: Counting objects:  50% (105/209)\u001b[K\rremote: Counting objects:  51% (107/209)\u001b[K\rremote: Counting objects:  52% (109/209)\u001b[K\rremote: Counting objects:  53% (111/209)\u001b[K\rremote: Counting objects:  54% (113/209)\u001b[K\rremote: Counting objects:  55% (115/209)\u001b[K\rremote: Counting objects:  56% (118/209)\u001b[K\rremote: Counting objects:  57% (120/209)\u001b[K\rremote: Counting objects:  58% (122/209)\u001b[K\rremote: Counting objects:  59% (124/209)\u001b[K\rremote: Counting objects:  60% (126/209)\u001b[K\rremote: Counting objects:  61% (128/209)\u001b[K\rremote: Counting objects:  62% (130/209)\u001b[K\rremote: Counting objects:  63% (132/209)\u001b[K\rremote: Counting objects:  64% (134/209)\u001b[K\rremote: Counting objects:  65% (136/209)\u001b[K\rremote: Counting objects:  66% (138/209)\u001b[K\rremote: Counting objects:  67% (141/209)\u001b[K\rremote: Counting objects:  68% (143/209)\u001b[K\rremote: Counting objects:  69% (145/209)\u001b[K\rremote: Counting objects:  70% (147/209)\u001b[K\rremote: Counting objects:  71% (149/209)\u001b[K\rremote: Counting objects:  72% (151/209)\u001b[K\rremote: Counting objects:  73% (153/209)\u001b[K\rremote: Counting objects:  74% (155/209)\u001b[K\rremote: Counting objects:  75% (157/209)\u001b[K\rremote: Counting objects:  76% (159/209)\u001b[K\rremote: Counting objects:  77% (161/209)\u001b[K\rremote: Counting objects:  78% (164/209)\u001b[K\rremote: Counting objects:  79% (166/209)\u001b[K\rremote: Counting objects:  80% (168/209)\u001b[K\rremote: Counting objects:  81% (170/209)\u001b[K\rremote: Counting objects:  82% (172/209)\u001b[K\rremote: Counting objects:  83% (174/209)\u001b[K\rremote: Counting objects:  84% (176/209)\u001b[K\rremote: Counting objects:  85% (178/209)\u001b[K\rremote: Counting objects:  86% (180/209)\u001b[K\rremote: Counting objects:  87% (182/209)\u001b[K\rremote: Counting objects:  88% (184/209)\u001b[K\rremote: Counting objects:  89% (187/209)\u001b[K\rremote: Counting objects:  90% (189/209)\u001b[K\rremote: Counting objects:  91% (191/209)\u001b[K\rremote: Counting objects:  92% (193/209)\u001b[K\rremote: Counting objects:  93% (195/209)\u001b[K\rremote: Counting objects:  94% (197/209)\u001b[K\rremote: Counting objects:  95% (199/209)\u001b[K\rremote: Counting objects:  96% (201/209)\u001b[K\rremote: Counting objects:  97% (203/209)\u001b[K\rremote: Counting objects:  98% (205/209)\u001b[K\rremote: Counting objects:  99% (207/209)\u001b[K\rremote: Counting objects: 100% (209/209)\u001b[K\rremote: Counting objects: 100% (209/209), done.\u001b[K\n",
            "remote: Compressing objects: 100% (68/68), done.\u001b[K\n",
            "remote: Total 672 (delta 162), reused 159 (delta 141), pack-reused 463\u001b[K\n",
            "Receiving objects: 100% (672/672), 40.63 MiB | 36.44 MiB/s, done.\n",
            "Resolving deltas: 100% (413/413), done.\n"
          ]
        }
      ]
    },
    {
      "cell_type": "code",
      "source": [
        "!cp /content/drive/MyDrive/resnet_nobatch.py  /content/drive/MyDrive/auto-attack/autoattack/examples"
      ],
      "metadata": {
        "id": "eLhGg4rG9-Y0"
      },
      "execution_count": 5,
      "outputs": []
    },
    {
      "cell_type": "markdown",
      "source": [
        "#AA-L2"
      ],
      "metadata": {
        "id": "uacaJxYIHrqU"
      }
    },
    {
      "cell_type": "markdown",
      "source": [
        "## Epsilon = 0.3"
      ],
      "metadata": {
        "id": "E-w_BuvXCl5V"
      }
    },
    {
      "cell_type": "code",
      "source": [
        "epsilon = 0.3\n",
        "! python /content/drive/MyDrive/auto-attack/autoattack/examples/eval.py --epsilon $epsilon"
      ],
      "metadata": {
        "colab": {
          "base_uri": "https://localhost:8080/"
        },
        "id": "2v4_N0Dkxpga",
        "outputId": "5d478bbc-315b-4a8c-d181-795b75ccb491"
      },
      "execution_count": 11,
      "outputs": [
        {
          "output_type": "stream",
          "name": "stdout",
          "text": [
            "Downloading https://www.cs.toronto.edu/~kriz/cifar-10-python.tar.gz to ./data/cifar-10-python.tar.gz\n",
            "100% 170498071/170498071 [00:03<00:00, 48651607.93it/s]\n",
            "Extracting ./data/cifar-10-python.tar.gz to ./data\n",
            "setting parameters for standard version\n",
            "using standard version including apgd-ce, apgd-t, fab-t, square.\n",
            "initial accuracy: 85.00%\n",
            "apgd-ce - 1/1 - 50 out of 85 successfully perturbed\n",
            "robust accuracy after APGD-CE: 35.00% (total time 15.6 s)\n",
            "apgd-t - 1/1 - 0 out of 35 successfully perturbed\n",
            "robust accuracy after APGD-T: 35.00% (total time 89.0 s)\n",
            "fab-t - 1/1 - 0 out of 35 successfully perturbed\n",
            "robust accuracy after FAB-T: 35.00% (total time 228.7 s)\n",
            "square - 1/1 - 1 out of 35 successfully perturbed\n",
            "robust accuracy after SQUARE: 34.00% (total time 419.6 s)\n",
            "Warning: Square Attack has decreased the robust accuracy of 1.00%. This might indicate that the robustness evaluation using AutoAttack is unreliable. Consider running Square Attack with more iterations and restarts or an adaptive attack. See flags_doc.md for details.\n",
            "max L2 perturbation: 95.46526, nan in tensor: 0, max: 2.75373, min: -2.42907\n",
            "robust accuracy: 34.00%\n"
          ]
        }
      ]
    },
    {
      "cell_type": "markdown",
      "source": [
        "## Epsilon = 0.4"
      ],
      "metadata": {
        "id": "awKVYO6qCAOO"
      }
    },
    {
      "cell_type": "code",
      "source": [
        "epsilon = 0.4\n",
        "! python /content/drive/MyDrive/auto-attack/autoattack/examples/eval.py --epsilon $epsilon"
      ],
      "metadata": {
        "colab": {
          "base_uri": "https://localhost:8080/"
        },
        "id": "lc5mAcn30TpD",
        "outputId": "64efbc80-e571-4f05-d595-f6c7c8ff46da"
      },
      "execution_count": 12,
      "outputs": [
        {
          "output_type": "stream",
          "name": "stdout",
          "text": [
            "Files already downloaded and verified\n",
            "setting parameters for standard version\n",
            "using standard version including apgd-ce, apgd-t, fab-t, square.\n",
            "initial accuracy: 85.00%\n",
            "apgd-ce - 1/1 - 50 out of 85 successfully perturbed\n",
            "robust accuracy after APGD-CE: 35.00% (total time 16.5 s)\n",
            "apgd-t - 1/1 - 1 out of 35 successfully perturbed\n",
            "robust accuracy after APGD-T: 34.00% (total time 89.4 s)\n",
            "fab-t - 1/1 - 0 out of 34 successfully perturbed\n",
            "robust accuracy after FAB-T: 34.00% (total time 225.7 s)\n",
            "square - 1/1 - 0 out of 34 successfully perturbed\n",
            "robust accuracy after SQUARE: 34.00% (total time 416.7 s)\n",
            "max L2 perturbation: 95.46526, nan in tensor: 0, max: 2.75373, min: -2.42907\n",
            "robust accuracy: 34.00%\n"
          ]
        }
      ]
    },
    {
      "cell_type": "markdown",
      "source": [
        "## Epsilon = 0.5"
      ],
      "metadata": {
        "id": "Op1MfiwSCIit"
      }
    },
    {
      "cell_type": "code",
      "source": [
        "epsilon = 0.5\n",
        "! python /content/drive/MyDrive/auto-attack/autoattack/examples/eval.py --epsilon $epsilon"
      ],
      "metadata": {
        "colab": {
          "base_uri": "https://localhost:8080/"
        },
        "id": "1XkFpe5ABxnf",
        "outputId": "ab59d8c5-e0f5-4919-cb98-0cf0019542fd"
      },
      "execution_count": 13,
      "outputs": [
        {
          "output_type": "stream",
          "name": "stdout",
          "text": [
            "Files already downloaded and verified\n",
            "setting parameters for standard version\n",
            "using standard version including apgd-ce, apgd-t, fab-t, square.\n",
            "initial accuracy: 85.00%\n",
            "apgd-ce - 1/1 - 51 out of 85 successfully perturbed\n",
            "robust accuracy after APGD-CE: 34.00% (total time 16.5 s)\n",
            "apgd-t - 1/1 - 0 out of 34 successfully perturbed\n",
            "robust accuracy after APGD-T: 34.00% (total time 88.2 s)\n",
            "fab-t - 1/1 - 0 out of 34 successfully perturbed\n",
            "robust accuracy after FAB-T: 34.00% (total time 224.4 s)\n",
            "square - 1/1 - 0 out of 34 successfully perturbed\n",
            "robust accuracy after SQUARE: 34.00% (total time 414.6 s)\n",
            "max L2 perturbation: 95.46526, nan in tensor: 0, max: 2.75373, min: -2.42907\n",
            "robust accuracy: 34.00%\n"
          ]
        }
      ]
    },
    {
      "cell_type": "markdown",
      "source": [
        "#AA-Linf"
      ],
      "metadata": {
        "id": "28wOBTZ5C5TN"
      }
    },
    {
      "cell_type": "markdown",
      "source": [
        "##Epsilon = 4/255"
      ],
      "metadata": {
        "id": "iQVo3nXqC86l"
      }
    },
    {
      "cell_type": "code",
      "source": [
        "norm = \"Linf\"\n",
        "epsilon = 4/255\n",
        "! python /content/drive/MyDrive/auto-attack/autoattack/examples/eval.py --epsilon $epsilon --norm $norm"
      ],
      "metadata": {
        "colab": {
          "base_uri": "https://localhost:8080/"
        },
        "id": "ucRp2TUsDJN3",
        "outputId": "125bc1bd-32e7-4422-a2fe-e73f5dcdbeeb"
      },
      "execution_count": 14,
      "outputs": [
        {
          "output_type": "stream",
          "name": "stdout",
          "text": [
            "Files already downloaded and verified\n",
            "setting parameters for standard version\n",
            "using standard version including apgd-ce, apgd-t, fab-t, square.\n",
            "initial accuracy: 85.00%\n",
            "apgd-ce - 1/1 - 67 out of 85 successfully perturbed\n",
            "robust accuracy after APGD-CE: 18.00% (total time 16.4 s)\n",
            "apgd-t - 1/1 - 0 out of 18 successfully perturbed\n",
            "robust accuracy after APGD-T: 18.00% (total time 58.1 s)\n",
            "fab-t - 1/1 - 0 out of 18 successfully perturbed\n",
            "robust accuracy after FAB-T: 18.00% (total time 140.6 s)\n",
            "square - 1/1 - 0 out of 18 successfully perturbed\n",
            "robust accuracy after SQUARE: 18.00% (total time 256.4 s)\n",
            "max Linf perturbation: 2.42907, nan in tensor: 0, max: 2.75373, min: -2.42907\n",
            "robust accuracy: 18.00%\n"
          ]
        }
      ]
    },
    {
      "cell_type": "markdown",
      "source": [
        "##Epsilon = 6/255"
      ],
      "metadata": {
        "id": "r_zZEAEKDWYl"
      }
    },
    {
      "cell_type": "code",
      "source": [
        "epsilon = 6/255\n",
        "norm = \"Linf\"\n",
        "! python /content/drive/MyDrive/auto-attack/autoattack/examples/eval.py --epsilon $epsilon --norm $norm"
      ],
      "metadata": {
        "colab": {
          "base_uri": "https://localhost:8080/"
        },
        "id": "dOrdmehRDcTV",
        "outputId": "407cf244-7fda-4f32-85b8-d208415891c9"
      },
      "execution_count": 15,
      "outputs": [
        {
          "output_type": "stream",
          "name": "stdout",
          "text": [
            "Files already downloaded and verified\n",
            "setting parameters for standard version\n",
            "using standard version including apgd-ce, apgd-t, fab-t, square.\n",
            "initial accuracy: 85.00%\n",
            "apgd-ce - 1/1 - 70 out of 85 successfully perturbed\n",
            "robust accuracy after APGD-CE: 15.00% (total time 16.3 s)\n",
            "apgd-t - 1/1 - 0 out of 15 successfully perturbed\n",
            "robust accuracy after APGD-T: 15.00% (total time 51.9 s)\n",
            "fab-t - 1/1 - 0 out of 15 successfully perturbed\n",
            "robust accuracy after FAB-T: 15.00% (total time 124.0 s)\n",
            "square - 1/1 - 0 out of 15 successfully perturbed\n",
            "robust accuracy after SQUARE: 15.00% (total time 225.1 s)\n",
            "max Linf perturbation: 2.42907, nan in tensor: 0, max: 2.75373, min: -2.42907\n",
            "robust accuracy: 15.00%\n"
          ]
        }
      ]
    },
    {
      "cell_type": "markdown",
      "source": [
        "##Epsilon = 8/255"
      ],
      "metadata": {
        "id": "Pu9rv73ZDZzd"
      }
    },
    {
      "cell_type": "code",
      "source": [
        "norm = \"Linf\"\n",
        "epsilon = 8/255\n",
        "! python /content/drive/MyDrive/auto-attack/autoattack/examples/eval.py --epsilon $epsilon --norm $norm"
      ],
      "metadata": {
        "colab": {
          "base_uri": "https://localhost:8080/"
        },
        "id": "hRQIK4KuDeI2",
        "outputId": "4c38f879-87f3-4073-8a7b-e60af9d19c9d"
      },
      "execution_count": 16,
      "outputs": [
        {
          "output_type": "stream",
          "name": "stdout",
          "text": [
            "Files already downloaded and verified\n",
            "setting parameters for standard version\n",
            "using standard version including apgd-ce, apgd-t, fab-t, square.\n",
            "initial accuracy: 85.00%\n",
            "apgd-ce - 1/1 - 75 out of 85 successfully perturbed\n",
            "robust accuracy after APGD-CE: 10.00% (total time 16.5 s)\n",
            "apgd-t - 1/1 - 0 out of 10 successfully perturbed\n",
            "robust accuracy after APGD-T: 10.00% (total time 43.4 s)\n",
            "fab-t - 1/1 - 0 out of 10 successfully perturbed\n",
            "robust accuracy after FAB-T: 10.00% (total time 98.2 s)\n",
            "square - 1/1 - 0 out of 10 successfully perturbed\n",
            "robust accuracy after SQUARE: 10.00% (total time 178.8 s)\n",
            "max Linf perturbation: 2.42907, nan in tensor: 0, max: 2.75373, min: -2.42907\n",
            "robust accuracy: 10.00%\n"
          ]
        }
      ]
    }
  ]
}