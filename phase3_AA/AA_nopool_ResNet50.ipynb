{
  "nbformat": 4,
  "nbformat_minor": 0,
  "metadata": {
    "colab": {
      "provenance": [],
      "gpuType": "T4"
    },
    "kernelspec": {
      "name": "python3",
      "display_name": "Python 3"
    },
    "language_info": {
      "name": "python"
    },
    "accelerator": "GPU"
  },
  "cells": [
    {
      "cell_type": "code",
      "source": [
        "from google.colab import drive\n",
        "drive.mount('/content/drive')"
      ],
      "metadata": {
        "colab": {
          "base_uri": "https://localhost:8080/"
        },
        "id": "mD1KaZKW9SmW",
        "outputId": "e4921f04-bb1c-4409-f704-eb269cb31354"
      },
      "execution_count": 1,
      "outputs": [
        {
          "output_type": "stream",
          "name": "stdout",
          "text": [
            "Mounted at /content/drive\n"
          ]
        }
      ]
    },
    {
      "cell_type": "code",
      "execution_count": 2,
      "metadata": {
        "id": "KSAW4Eg2vsJ7"
      },
      "outputs": [],
      "source": [
        "from IPython.display import clear_output"
      ]
    },
    {
      "cell_type": "code",
      "source": [
        "!pip install git+https://github.com/fra31/auto-attack"
      ],
      "metadata": {
        "colab": {
          "base_uri": "https://localhost:8080/"
        },
        "id": "uUa3h_oG21ih",
        "outputId": "bb82779e-c55e-4fcf-c9aa-cdf4abbdcea0"
      },
      "execution_count": 3,
      "outputs": [
        {
          "output_type": "stream",
          "name": "stdout",
          "text": [
            "Collecting git+https://github.com/fra31/auto-attack\n",
            "  Cloning https://github.com/fra31/auto-attack to /tmp/pip-req-build-g9_ay_9f\n",
            "  Running command git clone --filter=blob:none --quiet https://github.com/fra31/auto-attack /tmp/pip-req-build-g9_ay_9f\n",
            "  Resolved https://github.com/fra31/auto-attack to commit a39220048b3c9f2cca9a4d3a54604793c68eca7e\n",
            "  Preparing metadata (setup.py) ... \u001b[?25l\u001b[?25hdone\n",
            "Building wheels for collected packages: autoattack\n",
            "  Building wheel for autoattack (setup.py) ... \u001b[?25l\u001b[?25hdone\n",
            "  Created wheel for autoattack: filename=autoattack-0.1-py3-none-any.whl size=36229 sha256=ad136859aa8723fbe50b0eb6147effb3a290c797bcfc6dddcb8a5963b5eaea7d\n",
            "  Stored in directory: /tmp/pip-ephem-wheel-cache-3ihassik/wheels/b7/17/95/4b16fafe1b84fdabd247eb5f01b41165bd98d4c82d64ab93d2\n",
            "Successfully built autoattack\n",
            "Installing collected packages: autoattack\n",
            "Successfully installed autoattack-0.1\n"
          ]
        }
      ]
    },
    {
      "cell_type": "code",
      "source": [
        "! git clone https://github.com/fra31/auto-attack.git"
      ],
      "metadata": {
        "colab": {
          "base_uri": "https://localhost:8080/"
        },
        "id": "CzgFQRV726Vh",
        "outputId": "179fac7a-b78a-4b14-c304-0c3abf13bf76"
      },
      "execution_count": 4,
      "outputs": [
        {
          "output_type": "stream",
          "name": "stdout",
          "text": [
            "Cloning into 'auto-attack'...\n",
            "remote: Enumerating objects: 672, done.\u001b[K\n",
            "remote: Counting objects: 100% (209/209), done.\u001b[K\n",
            "remote: Compressing objects: 100% (68/68), done.\u001b[K\n",
            "remote: Total 672 (delta 162), reused 159 (delta 141), pack-reused 463\u001b[K\n",
            "Receiving objects: 100% (672/672), 40.63 MiB | 25.31 MiB/s, done.\n",
            "Resolving deltas: 100% (413/413), done.\n"
          ]
        }
      ]
    },
    {
      "cell_type": "code",
      "source": [
        "!cp /content/drive/MyDrive/resnet_nopool.py  /content/auto-attack/autoattack/examples"
      ],
      "metadata": {
        "id": "eLhGg4rG9-Y0"
      },
      "execution_count": 5,
      "outputs": []
    },
    {
      "cell_type": "markdown",
      "source": [
        "#AA-L2"
      ],
      "metadata": {
        "id": "uacaJxYIHrqU"
      }
    },
    {
      "cell_type": "markdown",
      "source": [
        "## Epsilon = 0.3"
      ],
      "metadata": {
        "id": "E-w_BuvXCl5V"
      }
    },
    {
      "cell_type": "code",
      "source": [
        "epsilon = 0.3\n",
        "! python /content/drive/MyDrive/auto-attack/autoattack/examples/eval.py --epsilon $epsilon"
      ],
      "metadata": {
        "colab": {
          "base_uri": "https://localhost:8080/"
        },
        "id": "2v4_N0Dkxpga",
        "outputId": "5f167ee8-7029-466d-95d1-d84cb782e3a6"
      },
      "execution_count": 8,
      "outputs": [
        {
          "output_type": "stream",
          "name": "stdout",
          "text": [
            "Downloading https://www.cs.toronto.edu/~kriz/cifar-10-python.tar.gz to ./data/cifar-10-python.tar.gz\n",
            "100% 170498071/170498071 [00:03<00:00, 47181390.60it/s]\n",
            "Extracting ./data/cifar-10-python.tar.gz to ./data\n",
            "setting parameters for standard version\n",
            "using standard version including apgd-ce, apgd-t, fab-t, square.\n",
            "initial accuracy: 83.10%\n",
            "apgd-ce - 1/2 - 289 out of 500 successfully perturbed\n",
            "apgd-ce - 2/2 - 188 out of 331 successfully perturbed\n",
            "robust accuracy after APGD-CE: 35.40% (total time 157.4 s)\n",
            "apgd-t - 1/1 - 2 out of 354 successfully perturbed\n",
            "robust accuracy after APGD-T: 35.20% (total time 779.8 s)\n",
            "fab-t - 1/1 - 0 out of 352 successfully perturbed\n",
            "robust accuracy after FAB-T: 35.20% (total time 1977.2 s)\n",
            "square - 1/1 - 3 out of 352 successfully perturbed\n",
            "robust accuracy after SQUARE: 34.90% (total time 3480.7 s)\n",
            "Warning: Square Attack has decreased the robust accuracy of 0.30%. This might indicate that the robustness evaluation using AutoAttack is unreliable. Consider running Square Attack with more iterations and restarts or an adaptive attack. See flags_doc.md for details.\n",
            "max L2 perturbation: 110.26619, nan in tensor: 0, max: 2.75373, min: -2.42907\n",
            "robust accuracy: 34.90%\n"
          ]
        }
      ]
    },
    {
      "cell_type": "markdown",
      "source": [
        "## Epsilon = 0.4"
      ],
      "metadata": {
        "id": "awKVYO6qCAOO"
      }
    },
    {
      "cell_type": "code",
      "source": [
        "epsilon = 0.4\n",
        "! python /content/drive/MyDrive/auto-attack/autoattack/examples/eval.py --epsilon $epsilon"
      ],
      "metadata": {
        "colab": {
          "base_uri": "https://localhost:8080/"
        },
        "id": "lc5mAcn30TpD",
        "outputId": "8f22c710-ea51-4f6b-eae3-346d778fd487"
      },
      "execution_count": 9,
      "outputs": [
        {
          "output_type": "stream",
          "name": "stdout",
          "text": [
            "Files already downloaded and verified\n",
            "setting parameters for standard version\n",
            "using standard version including apgd-ce, apgd-t, fab-t, square.\n",
            "initial accuracy: 83.10%\n",
            "apgd-ce - 1/2 - 289 out of 500 successfully perturbed\n",
            "apgd-ce - 2/2 - 189 out of 331 successfully perturbed\n",
            "robust accuracy after APGD-CE: 35.30% (total time 163.5 s)\n",
            "apgd-t - 1/1 - 5 out of 353 successfully perturbed\n",
            "robust accuracy after APGD-T: 34.80% (total time 780.7 s)\n",
            "fab-t - 1/1 - 0 out of 348 successfully perturbed\n",
            "robust accuracy after FAB-T: 34.80% (total time 1966.3 s)\n",
            "square - 1/1 - 0 out of 348 successfully perturbed\n",
            "robust accuracy after SQUARE: 34.80% (total time 3465.8 s)\n",
            "max L2 perturbation: 110.26619, nan in tensor: 0, max: 2.75373, min: -2.42907\n",
            "robust accuracy: 34.80%\n"
          ]
        }
      ]
    },
    {
      "cell_type": "markdown",
      "source": [
        "## Epsilon = 0.5"
      ],
      "metadata": {
        "id": "Op1MfiwSCIit"
      }
    },
    {
      "cell_type": "code",
      "source": [
        "epsilon = 0.5\n",
        "! python /content/drive/MyDrive/auto-attack/autoattack/examples/eval.py --epsilon $epsilon"
      ],
      "metadata": {
        "colab": {
          "base_uri": "https://localhost:8080/"
        },
        "id": "1XkFpe5ABxnf",
        "outputId": "e6aee81f-6268-4c34-e485-2e3103f4df4c"
      },
      "execution_count": 11,
      "outputs": [
        {
          "output_type": "stream",
          "name": "stdout",
          "text": [
            "Files already downloaded and verified\n",
            "setting parameters for standard version\n",
            "using standard version including apgd-ce, apgd-t, fab-t, square.\n",
            "initial accuracy: 83.00%\n",
            "apgd-ce - 1/1 - 49 out of 83 successfully perturbed\n",
            "robust accuracy after APGD-CE: 34.00% (total time 15.9 s)\n",
            "apgd-t - 1/1 - 0 out of 34 successfully perturbed\n",
            "robust accuracy after APGD-T: 34.00% (total time 87.6 s)\n",
            "fab-t - 1/1 - 0 out of 34 successfully perturbed\n",
            "robust accuracy after FAB-T: 34.00% (total time 230.5 s)\n",
            "square - 1/1 - 0 out of 34 successfully perturbed\n",
            "robust accuracy after SQUARE: 34.00% (total time 436.3 s)\n",
            "max L2 perturbation: 95.92420, nan in tensor: 0, max: 2.75373, min: -2.42907\n",
            "robust accuracy: 34.00%\n"
          ]
        }
      ]
    },
    {
      "cell_type": "markdown",
      "source": [
        "#AA-Linf"
      ],
      "metadata": {
        "id": "28wOBTZ5C5TN"
      }
    },
    {
      "cell_type": "markdown",
      "source": [
        "##Epsilon = 4/255"
      ],
      "metadata": {
        "id": "iQVo3nXqC86l"
      }
    },
    {
      "cell_type": "code",
      "source": [
        "norm = \"Linf\"\n",
        "epsilon = 4/255\n",
        "! python /content/drive/MyDrive/auto-attack/autoattack/examples/eval.py --epsilon $epsilon --norm $norm"
      ],
      "metadata": {
        "colab": {
          "base_uri": "https://localhost:8080/"
        },
        "id": "ucRp2TUsDJN3",
        "outputId": "2ad2a602-5e81-445a-b005-f4c6a9c2fdec"
      },
      "execution_count": 10,
      "outputs": [
        {
          "output_type": "stream",
          "name": "stdout",
          "text": [
            "Files already downloaded and verified\n",
            "setting parameters for standard version\n",
            "using standard version including apgd-ce, apgd-t, fab-t, square.\n",
            "initial accuracy: 83.10%\n",
            "apgd-ce - 1/2 - 365 out of 500 successfully perturbed\n",
            "apgd-ce - 2/2 - 245 out of 331 successfully perturbed\n",
            "robust accuracy after APGD-CE: 22.10% (total time 163.5 s)\n",
            "apgd-t - 1/1 - 6 out of 221 successfully perturbed\n",
            "robust accuracy after APGD-T: 21.50% (total time 534.2 s)\n",
            "fab-t - 1/1 - 0 out of 215 successfully perturbed\n",
            "robust accuracy after FAB-T: 21.50% (total time 1273.1 s)\n",
            "square - 1/1 - 0 out of 215 successfully perturbed\n",
            "robust accuracy after SQUARE: 21.50% (total time 2200.3 s)\n",
            "max Linf perturbation: 2.42907, nan in tensor: 0, max: 2.75373, min: -2.42907\n",
            "robust accuracy: 21.50%\n"
          ]
        }
      ]
    },
    {
      "cell_type": "markdown",
      "source": [
        "##Epsilon = 6/255"
      ],
      "metadata": {
        "id": "r_zZEAEKDWYl"
      }
    },
    {
      "cell_type": "code",
      "source": [
        "epsilon = 6/255\n",
        "norm = \"Linf\"\n",
        "! python /content/drive/MyDrive/auto-attack/autoattack/examples/eval.py --epsilon $epsilon --norm $norm"
      ],
      "metadata": {
        "colab": {
          "base_uri": "https://localhost:8080/"
        },
        "id": "dOrdmehRDcTV",
        "outputId": "cd70d239-4416-4d9e-d457-e8ddb9add12a"
      },
      "execution_count": 12,
      "outputs": [
        {
          "output_type": "stream",
          "name": "stdout",
          "text": [
            "Files already downloaded and verified\n",
            "setting parameters for standard version\n",
            "using standard version including apgd-ce, apgd-t, fab-t, square.\n",
            "initial accuracy: 83.00%\n",
            "apgd-ce - 1/1 - 67 out of 83 successfully perturbed\n",
            "robust accuracy after APGD-CE: 16.00% (total time 17.1 s)\n",
            "apgd-t - 1/1 - 0 out of 16 successfully perturbed\n",
            "robust accuracy after APGD-T: 16.00% (total time 51.9 s)\n",
            "fab-t - 1/1 - 0 out of 16 successfully perturbed\n",
            "robust accuracy after FAB-T: 16.00% (total time 121.8 s)\n",
            "square - 1/1 - 0 out of 16 successfully perturbed\n",
            "robust accuracy after SQUARE: 16.00% (total time 208.2 s)\n",
            "max Linf perturbation: 2.42907, nan in tensor: 0, max: 2.75373, min: -2.42907\n",
            "robust accuracy: 16.00%\n"
          ]
        }
      ]
    },
    {
      "cell_type": "markdown",
      "source": [
        "##Epsilon = 8/255"
      ],
      "metadata": {
        "id": "Pu9rv73ZDZzd"
      }
    },
    {
      "cell_type": "code",
      "source": [
        "norm = \"Linf\"\n",
        "epsilon = 8/255\n",
        "! python /content/drive/MyDrive/auto-attack/autoattack/examples/eval.py --epsilon $epsilon --norm $norm"
      ],
      "metadata": {
        "colab": {
          "base_uri": "https://localhost:8080/"
        },
        "id": "hRQIK4KuDeI2",
        "outputId": "8b88c6af-84d7-44b9-bb1d-0e6ed0e5c6de"
      },
      "execution_count": 13,
      "outputs": [
        {
          "output_type": "stream",
          "name": "stdout",
          "text": [
            "Files already downloaded and verified\n",
            "setting parameters for standard version\n",
            "using standard version including apgd-ce, apgd-t, fab-t, square.\n",
            "initial accuracy: 83.00%\n",
            "apgd-ce - 1/1 - 70 out of 83 successfully perturbed\n",
            "robust accuracy after APGD-CE: 13.00% (total time 17.1 s)\n",
            "apgd-t - 1/1 - 0 out of 13 successfully perturbed\n",
            "robust accuracy after APGD-T: 13.00% (total time 52.0 s)\n",
            "fab-t - 1/1 - 0 out of 13 successfully perturbed\n",
            "robust accuracy after FAB-T: 13.00% (total time 122.2 s)\n",
            "square - 1/1 - 0 out of 13 successfully perturbed\n",
            "robust accuracy after SQUARE: 13.00% (total time 223.5 s)\n",
            "max Linf perturbation: 2.42907, nan in tensor: 0, max: 2.75373, min: -2.42907\n",
            "robust accuracy: 13.00%\n"
          ]
        }
      ]
    }
  ]
}